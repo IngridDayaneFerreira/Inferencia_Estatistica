{
 "cells": [
  {
   "cell_type": "code",
   "execution_count": 3,
   "metadata": {},
   "outputs": [
    {
     "name": "stdout",
     "output_type": "stream",
     "text": [
      "W = 0.9202542780714339\n",
      "p = 0.5\n"
     ]
    }
   ],
   "source": [
    "import numpy as np\n",
    "\n",
    "def shapiro_wilk(data):\n",
    "   \n",
    "    # Ordenar os dados\n",
    "    n = len(data)\n",
    "    sorted_data = np.sort(data)\n",
    "\n",
    "    # Calcular os coeficientes de Shapiro-Wilk\n",
    "    a = np.arange(1, n+1)\n",
    "    m = np.mean(a)\n",
    "    c = np.sqrt(np.sum((a - m)**2))\n",
    "    coefficients = (a - m) / c\n",
    "\n",
    "    # Calcular a estatística de teste W\n",
    "    s = np.sum(coefficients * sorted_data)\n",
    "    s2 = np.sum((sorted_data - np.mean(sorted_data))**2)\n",
    "    W = (s**2) / s2\n",
    "\n",
    "    # Comparar W com a distribuição de referência\n",
    "    # z = (W - E[W]) / sqrt(Var[W])\n",
    "    # p = 1 - norm.cdf(z)\n",
    "\n",
    "    # Retornar W e um valor-p aproximado\n",
    "    return W, 0.5 \n",
    "\n",
    "data = np.random.randn(100)\n",
    "W, p = shapiro_wilk(data)\n",
    "print(\"W =\", W)\n",
    "print(\"p =\", p)"
   ]
  },
  {
   "cell_type": "code",
   "execution_count": 5,
   "metadata": {},
   "outputs": [
    {
     "name": "stdout",
     "output_type": "stream",
     "text": [
      "Os dados são provavelmente provenientes de uma distribuição normal\n"
     ]
    }
   ],
   "source": [
    "import numpy as np\n",
    "from scipy import stats\n",
    "\n",
    "# data = np.random.randn(100)\n",
    "\n",
    "# Teste de Shapiro-Wilk\n",
    "stat, p = stats.shapiro(data)\n",
    "\n",
    "# Interpretação dos resultados\n",
    "alpha = 0.05  # Nível de significância\n",
    "if p > alpha:\n",
    "    print('Os dados são provavelmente provenientes de uma distribuição normal')\n",
    "else:\n",
    "    print('Os dados provavelmente não são provenientes de uma distribuição normal')"
   ]
  }
 ],
 "metadata": {
  "kernelspec": {
   "display_name": "Python 3",
   "language": "python",
   "name": "python3"
  },
  "language_info": {
   "codemirror_mode": {
    "name": "ipython",
    "version": 3
   },
   "file_extension": ".py",
   "mimetype": "text/x-python",
   "name": "python",
   "nbconvert_exporter": "python",
   "pygments_lexer": "ipython3",
   "version": "3.12.6"
  }
 },
 "nbformat": 4,
 "nbformat_minor": 2
}
