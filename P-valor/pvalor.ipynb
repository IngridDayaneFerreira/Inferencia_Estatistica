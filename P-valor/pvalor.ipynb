{
 "cells": [
  {
   "cell_type": "code",
   "execution_count": null,
   "metadata": {},
   "outputs": [],
   "source": [
    "'''\n",
    "1) Definir a hipótese\n",
    "2) Calcular a estimativa pontual (geralmente é dada)\n",
    "3) Determinar a distribuição da amostra\n",
    "4) Calcular a estatística de teste\n",
    "5) Encontrar o P-valor\n",
    "6) Tomar a decisão e interpretá-la no contexto da pergunta da pesquisa\n",
    "'''\n",
    "\n",
    "def p_value(media_p, media_a, variancia, n):\n",
    "    def z_value(media_p, media_a, variancia, n):\n",
    "        return (media_a - media_p) / ((variancia/n)**(1/2))\n",
    "    z = z_value(media_p, media_a, variancia, n)"
   ]
  }
 ],
 "metadata": {
  "language_info": {
   "name": "python"
  }
 },
 "nbformat": 4,
 "nbformat_minor": 2
}
