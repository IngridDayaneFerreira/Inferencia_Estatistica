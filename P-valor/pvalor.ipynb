{
 "cells": [
  {
   "cell_type": "code",
   "execution_count": 24,
   "metadata": {},
   "outputs": [],
   "source": [
    "'''\n",
    "1) Definir a hipótese\n",
    "2) Calcular a estimativa pontual (geralmente é dada)\n",
    "3) Determinar a distribuição da amostra\n",
    "4) Calcular a estatística de teste\n",
    "5) Encontrar o P-valor\n",
    "6) Tomar a decisão e interpretá-la no contexto da pergunta da pesquisa\n",
    "'''\n",
    "def p_value(media_p, media_a, variancia, n):\n",
    "    import scipy\n",
    "    import scipy.stats\n",
    "    def z_value(media_p, media_a, variancia, n):\n",
    "        return (media_a - media_p) / ((variancia/n)**(1/2))\n",
    "    z = z_value(media_p, media_a, variancia, n)\n",
    "    prob = scipy.stats.norm.cdf(z, loc=0, scale=1)\n",
    "    return 1 - prob\n",
    "\n",
    "# p_valor = p_value(14, 14.7, 2, 15)\n",
    "# p_valor"
   ]
  }
 ],
 "metadata": {
  "kernelspec": {
   "display_name": "Python 3",
   "language": "python",
   "name": "python3"
  },
  "language_info": {
   "codemirror_mode": {
    "name": "ipython",
    "version": 3
   },
   "file_extension": ".py",
   "mimetype": "text/x-python",
   "name": "python",
   "nbconvert_exporter": "python",
   "pygments_lexer": "ipython3",
   "version": "3.12.6"
  }
 },
 "nbformat": 4,
 "nbformat_minor": 2
}
